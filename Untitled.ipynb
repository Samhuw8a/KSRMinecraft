{
 "cells": [
  {
   "cell_type": "code",
   "execution_count": 33,
   "id": "bb0dab32",
   "metadata": {},
   "outputs": [
    {
     "name": "stdout",
     "output_type": "stream",
     "text": [
      "df is not empty\n",
      "going to work!\n",
      "start registering...\n",
      "None\n",
      "is sluz\n",
      "send token error\n",
      "startin with clean_up\n",
      "subprocess done!\n"
     ]
    }
   ],
   "source": [
    "#!/usr/bin/env python3\n",
    "## observe db\n",
    "\n",
    "from socket import SO_SNDLOWAT\n",
    "import sqlalchemy\n",
    "import pandas as pd\n",
    "import time\n",
    "from configparser import ConfigParser\n",
    "import subprocess\n",
    "import os\n",
    "import sys\n",
    "import ast\n",
    "\n",
    "file = 'config.ini'\n",
    "config = ConfigParser(interpolation=None)\n",
    "config.read(file)\n",
    "\n",
    "def sql(sql_statement):\n",
    "    username = str(config['credentials']['user'])\n",
    "    password = str(config['credentials']['password']    )\n",
    "    server_ip = str(config['db']['server_ip'])\n",
    "    engine = sqlalchemy.create_engine(\n",
    "    f\"mysql+pymysql://{username}:{password}@{server_ip}/Registration\")\n",
    "    return pd.read_sql(str(sql_statement),\n",
    "                       con=engine\n",
    "                       )\n",
    "\n",
    "def check_que():\n",
    "    global que\n",
    "    if sql('SELECT * FROM registration').empty:\n",
    "        if debug == True:\n",
    "            print(\"que is empty\" + \"\\n\" + \"going to sleep\")\n",
    "        que = False\n",
    "    else:\n",
    "        if debug == True:\n",
    "            print(\"df is not empty\" +\"\\n\" + \"going to work!\")\n",
    "        que = True\n",
    "\n",
    "def fetch_first():\n",
    "    return sql('SELECT * FROM registration LIMIT 1')\n",
    "\n",
    "class user:\n",
    "  def __init__(self, username, name, mail, comment, timestamp):\n",
    "    self.username = username\n",
    "    self.name = name\n",
    "    self.mail = mail\n",
    "    self.comment = comment\n",
    "    self.timestamp = timestamp\n",
    "\n",
    "def fetch_first():\n",
    "    global user1\n",
    "    username = str(sql('SELECT * FROM registration LIMIT 1')['reg_username']).strip(\"0 \").partition('\\n')[0]\n",
    "    mail = str(sql('SELECT * FROM registration LIMIT 1')['reg_mail']).strip(\"0 \").partition('\\n')[0]\n",
    "    name =  str(sql('SELECT * FROM registration LIMIT 1')['reg_name']).strip(\"0 \").partition('\\n')[0]\n",
    "    comment = str(sql('SELECT * FROM registration LIMIT 1')['reg_comment']).strip(\"0 \").partition('\\n')[0]\n",
    "    timestamp = str(sql('SELECT * FROM registration LIMIT 1')['reg_timestamp']).strip(\"0 \").partition('\\n')[0]\n",
    "\n",
    "    user1 = user(username, name, mail, comment, timestamp)\n",
    "    \n",
    "\n",
    "def main():\n",
    "    fetch_first()\n",
    "#\n",
    "    \n",
    "    check_que()\n",
    "    if que == True:\n",
    "        if debug == True:\n",
    "            print(\"start registering...\")\n",
    "            print(fetch_first())\n",
    "        if str(user1.mail)[-8:] == \"@sluz.ch\":\n",
    "            if debug == True:\n",
    "                print('is sluz')\n",
    "            p = subprocess.check_output(['python', 'auth_token.py', str(user1.mail), str(user1.timestamp)])\n",
    "            p = p.decode('ascii')\n",
    "            token_state = p.splitlines()[-1]\n",
    "            if token_state == \"token_success\":\n",
    "                p = subprocess.Popen(['python', 'register.py', str(debug),\n",
    "                                  str(user1.username), str(user1.name),\n",
    "                                  str(user1.mail), str(user1.comment),\n",
    "                                  str(user1.timestamp)])\n",
    "                p.wait() # wait until the process completes.\n",
    "                \n",
    "            elif token_state == \"token_failed\":\n",
    "                print(\"send token error\")\n",
    "                print('startin with clean_up')\n",
    "                #p = subprocess.Popen(['python', 'clean_up.py', str(user1.mail)])\n",
    "                \n",
    "        else:\n",
    "            if debug == True:\n",
    "                print('not an sluz mail!')\n",
    "        print(\"subprocess done!\")\n",
    "        #if register_success == True:\n",
    "        #    p = subprocess.Popen(['python', 'clean_up.py'])\n",
    "        #    p.wait()\n",
    "    else:\n",
    "        if debug == True:\n",
    "            print(\"going to sleep for 5 seconds\")\n",
    "        time.sleep(5)\n",
    "\n",
    "if __name__ == '__main__':\n",
    "    debug = True\n",
    "    main()"
   ]
  },
  {
   "cell_type": "code",
   "execution_count": 8,
   "id": "c150a822",
   "metadata": {},
   "outputs": [
    {
     "data": {
      "text/plain": [
       "665328211"
      ]
     },
     "execution_count": 8,
     "metadata": {},
     "output_type": "execute_result"
    }
   ],
   "source": [
    "dummy_pull_token()"
   ]
  },
  {
   "cell_type": "code",
   "execution_count": 9,
   "id": "846e246d",
   "metadata": {},
   "outputs": [
    {
     "data": {
      "text/plain": [
       "665328211"
      ]
     },
     "execution_count": 9,
     "metadata": {},
     "output_type": "execute_result"
    }
   ],
   "source": [
    "dummy_pull_token()"
   ]
  },
  {
   "cell_type": "code",
   "execution_count": null,
   "id": "79498c2e",
   "metadata": {},
   "outputs": [],
   "source": []
  }
 ],
 "metadata": {
  "kernelspec": {
   "display_name": "Python 3 (ipykernel)",
   "language": "python",
   "name": "python3"
  },
  "language_info": {
   "codemirror_mode": {
    "name": "ipython",
    "version": 3
   },
   "file_extension": ".py",
   "mimetype": "text/x-python",
   "name": "python",
   "nbconvert_exporter": "python",
   "pygments_lexer": "ipython3",
   "version": "3.10.6"
  }
 },
 "nbformat": 4,
 "nbformat_minor": 5
}
